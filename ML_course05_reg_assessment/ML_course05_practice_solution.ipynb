{
 "cells": [
  {
   "cell_type": "markdown",
   "metadata": {},
   "source": [
    "# ML Course 5 - Practice (correction)"
   ]
  },
  {
   "cell_type": "markdown",
   "metadata": {},
   "source": [
    "## Subject"
   ]
  },
  {
   "cell_type": "markdown",
   "metadata": {},
   "source": [
    "We will use here the same data set as for practice #3."
   ]
  },
  {
   "cell_type": "markdown",
   "metadata": {},
   "source": [
    "**`FuelConsumption.csv`** is a vehicle fuel consumption data set that contains model-specific fuel consumption.\n",
    "-   **MODELYEAR** e.g. 2014\n",
    "-   **MAKE** e.g. Acura\n",
    "-   **MODEL** e.g. ILX\n",
    "-   **VEHICLE CLASS** e.g. SUV\n",
    "-   **ENGINE SIZE** e.g. 4.7\n",
    "-   **CYLINDERS** e.g 6\n",
    "-   **TRANSMISSION** e.g. A6\n",
    "-   **FUEL CONSUMPTION in CITY(L/100 km)** e.g. 9.9\n",
    "-   **FUEL CONSUMPTION in HWY (L/100 km)** e.g. 8.9\n",
    "-   **FUEL CONSUMPTION COMB (L/100 km)** e.g. 9.2\n",
    "-   **CO2 EMISSIONS (g/km)** e.g. 182   --> low --> 0"
   ]
  },
  {
   "cell_type": "code",
   "execution_count": 2,
   "metadata": {},
   "outputs": [],
   "source": [
    "import numpy as np\n",
    "import matplotlib.pyplot as plt\n",
    "import pandas as pd\n",
    "import sklearn "
   ]
  },
  {
   "cell_type": "code",
   "execution_count": 3,
   "metadata": {},
   "outputs": [],
   "source": [
    "data = pd.read_csv(\"FuelConsumption.csv\")"
   ]
  },
  {
   "cell_type": "code",
   "execution_count": 4,
   "metadata": {},
   "outputs": [
    {
     "data": {
      "text/html": [
       "<div>\n",
       "<style scoped>\n",
       "    .dataframe tbody tr th:only-of-type {\n",
       "        vertical-align: middle;\n",
       "    }\n",
       "\n",
       "    .dataframe tbody tr th {\n",
       "        vertical-align: top;\n",
       "    }\n",
       "\n",
       "    .dataframe thead th {\n",
       "        text-align: right;\n",
       "    }\n",
       "</style>\n",
       "<table border=\"1\" class=\"dataframe\">\n",
       "  <thead>\n",
       "    <tr style=\"text-align: right;\">\n",
       "      <th></th>\n",
       "      <th>MODELYEAR</th>\n",
       "      <th>MAKE</th>\n",
       "      <th>MODEL</th>\n",
       "      <th>VEHICLECLASS</th>\n",
       "      <th>ENGINESIZE</th>\n",
       "      <th>CYLINDERS</th>\n",
       "      <th>TRANSMISSION</th>\n",
       "      <th>FUELTYPE</th>\n",
       "      <th>FUELCONSUMPTION_CITY</th>\n",
       "      <th>FUELCONSUMPTION_HWY</th>\n",
       "      <th>FUELCONSUMPTION_COMB</th>\n",
       "      <th>FUELCONSUMPTION_COMB_MPG</th>\n",
       "      <th>CO2EMISSIONS</th>\n",
       "    </tr>\n",
       "  </thead>\n",
       "  <tbody>\n",
       "    <tr>\n",
       "      <th>522</th>\n",
       "      <td>2014</td>\n",
       "      <td>HYUNDAI</td>\n",
       "      <td>VELOSTER</td>\n",
       "      <td>COMPACT</td>\n",
       "      <td>1.6</td>\n",
       "      <td>4</td>\n",
       "      <td>AM6</td>\n",
       "      <td>X</td>\n",
       "      <td>8.6</td>\n",
       "      <td>6.6</td>\n",
       "      <td>7.7</td>\n",
       "      <td>37</td>\n",
       "      <td>177</td>\n",
       "    </tr>\n",
       "    <tr>\n",
       "      <th>130</th>\n",
       "      <td>2014</td>\n",
       "      <td>BMW</td>\n",
       "      <td>X5 xDRIVE35i</td>\n",
       "      <td>SUV - STANDARD</td>\n",
       "      <td>3.0</td>\n",
       "      <td>6</td>\n",
       "      <td>A8</td>\n",
       "      <td>Z</td>\n",
       "      <td>12.9</td>\n",
       "      <td>8.8</td>\n",
       "      <td>11.1</td>\n",
       "      <td>25</td>\n",
       "      <td>255</td>\n",
       "    </tr>\n",
       "    <tr>\n",
       "      <th>438</th>\n",
       "      <td>2014</td>\n",
       "      <td>GMC</td>\n",
       "      <td>SAVANA 1500 CARGO AWD</td>\n",
       "      <td>VAN - CARGO</td>\n",
       "      <td>5.3</td>\n",
       "      <td>8</td>\n",
       "      <td>A4</td>\n",
       "      <td>E</td>\n",
       "      <td>23.7</td>\n",
       "      <td>18.8</td>\n",
       "      <td>21.5</td>\n",
       "      <td>13</td>\n",
       "      <td>344</td>\n",
       "    </tr>\n",
       "    <tr>\n",
       "      <th>345</th>\n",
       "      <td>2014</td>\n",
       "      <td>FORD</td>\n",
       "      <td>E150 VAN FFV</td>\n",
       "      <td>VAN - CARGO</td>\n",
       "      <td>5.4</td>\n",
       "      <td>8</td>\n",
       "      <td>A4</td>\n",
       "      <td>X</td>\n",
       "      <td>19.3</td>\n",
       "      <td>14.7</td>\n",
       "      <td>17.2</td>\n",
       "      <td>16</td>\n",
       "      <td>396</td>\n",
       "    </tr>\n",
       "    <tr>\n",
       "      <th>517</th>\n",
       "      <td>2014</td>\n",
       "      <td>HYUNDAI</td>\n",
       "      <td>TUCSON</td>\n",
       "      <td>SUV - SMALL</td>\n",
       "      <td>2.0</td>\n",
       "      <td>4</td>\n",
       "      <td>A6</td>\n",
       "      <td>X</td>\n",
       "      <td>10.2</td>\n",
       "      <td>8.2</td>\n",
       "      <td>9.3</td>\n",
       "      <td>30</td>\n",
       "      <td>214</td>\n",
       "    </tr>\n",
       "    <tr>\n",
       "      <th>206</th>\n",
       "      <td>2014</td>\n",
       "      <td>CHEVROLET</td>\n",
       "      <td>EQUINOX</td>\n",
       "      <td>SUV - SMALL</td>\n",
       "      <td>3.6</td>\n",
       "      <td>6</td>\n",
       "      <td>A6</td>\n",
       "      <td>E</td>\n",
       "      <td>18.8</td>\n",
       "      <td>13.1</td>\n",
       "      <td>16.2</td>\n",
       "      <td>17</td>\n",
       "      <td>259</td>\n",
       "    </tr>\n",
       "  </tbody>\n",
       "</table>\n",
       "</div>"
      ],
      "text/plain": [
       "     MODELYEAR       MAKE                  MODEL    VEHICLECLASS  ENGINESIZE  \\\n",
       "522       2014    HYUNDAI               VELOSTER         COMPACT         1.6   \n",
       "130       2014        BMW           X5 xDRIVE35i  SUV - STANDARD         3.0   \n",
       "438       2014        GMC  SAVANA 1500 CARGO AWD     VAN - CARGO         5.3   \n",
       "345       2014       FORD           E150 VAN FFV     VAN - CARGO         5.4   \n",
       "517       2014    HYUNDAI                 TUCSON     SUV - SMALL         2.0   \n",
       "206       2014  CHEVROLET                EQUINOX     SUV - SMALL         3.6   \n",
       "\n",
       "     CYLINDERS TRANSMISSION FUELTYPE  FUELCONSUMPTION_CITY  \\\n",
       "522          4          AM6        X                   8.6   \n",
       "130          6           A8        Z                  12.9   \n",
       "438          8           A4        E                  23.7   \n",
       "345          8           A4        X                  19.3   \n",
       "517          4           A6        X                  10.2   \n",
       "206          6           A6        E                  18.8   \n",
       "\n",
       "     FUELCONSUMPTION_HWY  FUELCONSUMPTION_COMB  FUELCONSUMPTION_COMB_MPG  \\\n",
       "522                  6.6                   7.7                        37   \n",
       "130                  8.8                  11.1                        25   \n",
       "438                 18.8                  21.5                        13   \n",
       "345                 14.7                  17.2                        16   \n",
       "517                  8.2                   9.3                        30   \n",
       "206                 13.1                  16.2                        17   \n",
       "\n",
       "     CO2EMISSIONS  \n",
       "522           177  \n",
       "130           255  \n",
       "438           344  \n",
       "345           396  \n",
       "517           214  \n",
       "206           259  "
      ]
     },
     "execution_count": 4,
     "metadata": {},
     "output_type": "execute_result"
    }
   ],
   "source": [
    "data.sample(6)"
   ]
  },
  {
   "cell_type": "markdown",
   "metadata": {},
   "source": [
    "**Forward-Backward selection with all candidate predictors.**"
   ]
  },
  {
   "cell_type": "markdown",
   "metadata": {},
   "source": [
    "## Proposition of correction for a Forward selection"
   ]
  },
  {
   "cell_type": "code",
   "execution_count": 5,
   "metadata": {},
   "outputs": [
    {
     "data": {
      "text/plain": [
       "MODELYEAR                     1\n",
       "MAKE                         39\n",
       "MODEL                       663\n",
       "VEHICLECLASS                 16\n",
       "ENGINESIZE                   45\n",
       "CYLINDERS                     7\n",
       "TRANSMISSION                 22\n",
       "FUELTYPE                      4\n",
       "FUELCONSUMPTION_CITY        167\n",
       "FUELCONSUMPTION_HWY         118\n",
       "FUELCONSUMPTION_COMB        148\n",
       "FUELCONSUMPTION_COMB_MPG     43\n",
       "CO2EMISSIONS                159\n",
       "dtype: int64"
      ]
     },
     "execution_count": 5,
     "metadata": {},
     "output_type": "execute_result"
    }
   ],
   "source": [
    "data.nunique()"
   ]
  },
  {
   "cell_type": "markdown",
   "metadata": {},
   "source": [
    "* Numeric features (ordered set): 'MODELYEAR', 'ENGINESIZE', 'CYLINDERS', 'FUELCONSUMPTION_CITY', 'FUELCONSUMPTION_HWY', 'FUELCONSUMPTION_COMB', 'FUELCONSUMPTION_COMB_MPG'\n",
    "* Non-numeric features: 'MAKE', 'MODEL', 'VEHICLECLASS', 'TRANSMISSION', 'FUELTYPE'\n",
    "\n",
    "Even if we know that features are strongly correlated (fuel consumption features) and that 'MODELYEAR' has a unique value, we will consider all numeric features to check if the results match the intuition.\n",
    "Concerning the non-numeric features, 'FUELTYPE' can take 4 differents values so we will encode it and consider it in the following. The other features take too many different values, we could encode it as well, but it would make too many features (possible to handle but more complex to understand). One other possibility could be to group values (feature engineering), e.g. the values of 'VEHICLECLASS' can be organized in three clusters little/middle/big cars."
   ]
  },
  {
   "cell_type": "markdown",
   "metadata": {},
   "source": [
    "For the sake of simplicity, we do not consider all non-numeric features here:"
   ]
  },
  {
   "cell_type": "code",
   "execution_count": 6,
   "metadata": {},
   "outputs": [
    {
     "data": {
      "text/html": [
       "<div>\n",
       "<style scoped>\n",
       "    .dataframe tbody tr th:only-of-type {\n",
       "        vertical-align: middle;\n",
       "    }\n",
       "\n",
       "    .dataframe tbody tr th {\n",
       "        vertical-align: top;\n",
       "    }\n",
       "\n",
       "    .dataframe thead th {\n",
       "        text-align: right;\n",
       "    }\n",
       "</style>\n",
       "<table border=\"1\" class=\"dataframe\">\n",
       "  <thead>\n",
       "    <tr style=\"text-align: right;\">\n",
       "      <th></th>\n",
       "      <th>MODELYEAR</th>\n",
       "      <th>ENGINESIZE</th>\n",
       "      <th>CYLINDERS</th>\n",
       "      <th>FUELCONSUMPTION_CITY</th>\n",
       "      <th>FUELCONSUMPTION_HWY</th>\n",
       "      <th>FUELCONSUMPTION_COMB</th>\n",
       "      <th>FUELCONSUMPTION_COMB_MPG</th>\n",
       "      <th>FUELTYPE_is_D</th>\n",
       "      <th>FUELTYPE_is_E</th>\n",
       "      <th>FUELTYPE_is_X</th>\n",
       "      <th>FUELTYPE_is_Z</th>\n",
       "    </tr>\n",
       "  </thead>\n",
       "  <tbody>\n",
       "    <tr>\n",
       "      <th>961</th>\n",
       "      <td>2014</td>\n",
       "      <td>3.6</td>\n",
       "      <td>6</td>\n",
       "      <td>14.7</td>\n",
       "      <td>11.1</td>\n",
       "      <td>13.1</td>\n",
       "      <td>22</td>\n",
       "      <td>0</td>\n",
       "      <td>0</td>\n",
       "      <td>1</td>\n",
       "      <td>0</td>\n",
       "    </tr>\n",
       "    <tr>\n",
       "      <th>201</th>\n",
       "      <td>2014</td>\n",
       "      <td>2.0</td>\n",
       "      <td>4</td>\n",
       "      <td>8.7</td>\n",
       "      <td>5.1</td>\n",
       "      <td>7.1</td>\n",
       "      <td>40</td>\n",
       "      <td>1</td>\n",
       "      <td>0</td>\n",
       "      <td>0</td>\n",
       "      <td>0</td>\n",
       "    </tr>\n",
       "    <tr>\n",
       "      <th>331</th>\n",
       "      <td>2014</td>\n",
       "      <td>3.6</td>\n",
       "      <td>6</td>\n",
       "      <td>18.9</td>\n",
       "      <td>12.9</td>\n",
       "      <td>16.2</td>\n",
       "      <td>17</td>\n",
       "      <td>0</td>\n",
       "      <td>1</td>\n",
       "      <td>0</td>\n",
       "      <td>0</td>\n",
       "    </tr>\n",
       "    <tr>\n",
       "      <th>118</th>\n",
       "      <td>2014</td>\n",
       "      <td>4.4</td>\n",
       "      <td>8</td>\n",
       "      <td>17.3</td>\n",
       "      <td>11.5</td>\n",
       "      <td>14.7</td>\n",
       "      <td>19</td>\n",
       "      <td>0</td>\n",
       "      <td>0</td>\n",
       "      <td>0</td>\n",
       "      <td>1</td>\n",
       "    </tr>\n",
       "    <tr>\n",
       "      <th>135</th>\n",
       "      <td>2014</td>\n",
       "      <td>2.0</td>\n",
       "      <td>4</td>\n",
       "      <td>10.8</td>\n",
       "      <td>7.1</td>\n",
       "      <td>9.1</td>\n",
       "      <td>31</td>\n",
       "      <td>0</td>\n",
       "      <td>0</td>\n",
       "      <td>0</td>\n",
       "      <td>1</td>\n",
       "    </tr>\n",
       "    <tr>\n",
       "      <th>1058</th>\n",
       "      <td>2014</td>\n",
       "      <td>3.0</td>\n",
       "      <td>6</td>\n",
       "      <td>13.2</td>\n",
       "      <td>9.5</td>\n",
       "      <td>11.5</td>\n",
       "      <td>25</td>\n",
       "      <td>0</td>\n",
       "      <td>0</td>\n",
       "      <td>1</td>\n",
       "      <td>0</td>\n",
       "    </tr>\n",
       "  </tbody>\n",
       "</table>\n",
       "</div>"
      ],
      "text/plain": [
       "      MODELYEAR  ENGINESIZE  CYLINDERS  FUELCONSUMPTION_CITY  \\\n",
       "961        2014         3.6          6                  14.7   \n",
       "201        2014         2.0          4                   8.7   \n",
       "331        2014         3.6          6                  18.9   \n",
       "118        2014         4.4          8                  17.3   \n",
       "135        2014         2.0          4                  10.8   \n",
       "1058       2014         3.0          6                  13.2   \n",
       "\n",
       "      FUELCONSUMPTION_HWY  FUELCONSUMPTION_COMB  FUELCONSUMPTION_COMB_MPG  \\\n",
       "961                  11.1                  13.1                        22   \n",
       "201                   5.1                   7.1                        40   \n",
       "331                  12.9                  16.2                        17   \n",
       "118                  11.5                  14.7                        19   \n",
       "135                   7.1                   9.1                        31   \n",
       "1058                  9.5                  11.5                        25   \n",
       "\n",
       "      FUELTYPE_is_D  FUELTYPE_is_E  FUELTYPE_is_X  FUELTYPE_is_Z  \n",
       "961               0              0              1              0  \n",
       "201               1              0              0              0  \n",
       "331               0              1              0              0  \n",
       "118               0              0              0              1  \n",
       "135               0              0              0              1  \n",
       "1058              0              0              1              0  "
      ]
     },
     "execution_count": 6,
     "metadata": {},
     "output_type": "execute_result"
    }
   ],
   "source": [
    "features = ['MODELYEAR', 'ENGINESIZE', 'CYLINDERS', 'FUELTYPE', 'FUELCONSUMPTION_CITY', 'FUELCONSUMPTION_HWY', 'FUELCONSUMPTION_COMB', 'FUELCONSUMPTION_COMB_MPG']\n",
    "\n",
    "# Data encoding\n",
    "X = pd.get_dummies(data[features], columns=['FUELTYPE'], prefix=['FUELTYPE_is'])\n",
    "\n",
    "y = data['CO2EMISSIONS'].values.reshape(-1,1)\n",
    "\n",
    "X.sample(6)"
   ]
  },
  {
   "cell_type": "code",
   "execution_count": 7,
   "metadata": {},
   "outputs": [],
   "source": [
    "from sklearn.model_selection import train_test_split\n",
    "X_train, X_test, y_train, y_test = train_test_split(X, y, test_size = 1/3, random_state = 0)"
   ]
  },
  {
   "cell_type": "code",
   "execution_count": 9,
   "metadata": {},
   "outputs": [
    {
     "name": "stdout",
     "output_type": "stream",
     "text": [
      "==== Step 1 ====================\n",
      "    > Test with adding MODELYEAR: RSS = 1417024, R2 = -0.015\n",
      "    > Test with adding ENGINESIZE: RSS = 373781, R2 = 0.732\n",
      "    > Test with adding CYLINDERS: RSS = 421034, R2 = 0.699\n",
      "    > Test with adding FUELCONSUMPTION_CITY: RSS = 299084, R2 = 0.786\n",
      "    > Test with adding FUELCONSUMPTION_HWY: RSS = 375498, R2 = 0.731\n",
      "    > Test with adding FUELCONSUMPTION_COMB: RSS = 309995, R2 = 0.778\n",
      "    > Test with adding FUELCONSUMPTION_COMB_MPG: RSS = 281191, R2 = 0.799\n",
      "    > Test with adding FUELTYPE_is_D: RSS = 1411012, R2 = -0.01\n",
      "    > Test with adding FUELTYPE_is_E: RSS = 1375184, R2 = 0.015\n",
      "    > Test with adding FUELTYPE_is_X: RSS = 1329330, R2 = 0.048\n",
      "    > Test with adding FUELTYPE_is_Z: RSS = 1377875, R2 = 0.013\n",
      "=> We select FUELCONSUMPTION_COMB_MPG, features list is now ['FUELCONSUMPTION_COMB_MPG']  with RSS = 281191, R2 = 0.799\n",
      "\n",
      "==== Step 2 ====================\n",
      "    > Test with adding MODELYEAR: RSS = 281191, R2 = 0.799\n",
      "    > Test with adding ENGINESIZE: RSS = 187755, R2 = 0.866\n",
      "    > Test with adding CYLINDERS: RSS = 195350, R2 = 0.86\n",
      "    > Test with adding FUELCONSUMPTION_CITY: RSS = 248129, R2 = 0.822\n",
      "    > Test with adding FUELCONSUMPTION_HWY: RSS = 251879, R2 = 0.82\n",
      "    > Test with adding FUELCONSUMPTION_COMB: RSS = 246600, R2 = 0.823\n",
      "    > Test with adding FUELTYPE_is_D: RSS = 277681, R2 = 0.801\n",
      "    > Test with adding FUELTYPE_is_E: RSS = 194287, R2 = 0.861\n",
      "    > Test with adding FUELTYPE_is_X: RSS = 279246, R2 = 0.8\n",
      "    > Test with adding FUELTYPE_is_Z: RSS = 273996, R2 = 0.804\n",
      "=> We select ENGINESIZE, features list is now ['FUELCONSUMPTION_COMB_MPG', 'ENGINESIZE']  with RSS = 187755, R2 = 0.866\n",
      "\n",
      "==== Step 3 ====================\n",
      "    > Test with adding MODELYEAR: RSS = 187755, R2 = 0.866\n",
      "    > Test with adding CYLINDERS: RSS = 184270, R2 = 0.868\n",
      "    > Test with adding FUELCONSUMPTION_CITY: RSS = 184185, R2 = 0.868\n",
      "    > Test with adding FUELCONSUMPTION_HWY: RSS = 179968, R2 = 0.871\n",
      "    > Test with adding FUELCONSUMPTION_COMB: RSS = 181936, R2 = 0.87\n",
      "    > Test with adding FUELTYPE_is_D: RSS = 184650, R2 = 0.868\n",
      "    > Test with adding FUELTYPE_is_E: RSS = 124560, R2 = 0.911\n",
      "    > Test with adding FUELTYPE_is_X: RSS = 182093, R2 = 0.87\n",
      "    > Test with adding FUELTYPE_is_Z: RSS = 186175, R2 = 0.867\n",
      "=> We select FUELTYPE_is_E, features list is now ['FUELCONSUMPTION_COMB_MPG', 'ENGINESIZE', 'FUELTYPE_is_E']  with RSS = 124560, R2 = 0.911\n",
      "\n",
      "==== Step 4 ====================\n",
      "    > Test with adding MODELYEAR: RSS = 124560, R2 = 0.911\n",
      "    > Test with adding CYLINDERS: RSS = 123329, R2 = 0.912\n",
      "    > Test with adding FUELCONSUMPTION_CITY: RSS = 27020, R2 = 0.981\n",
      "    > Test with adding FUELCONSUMPTION_HWY: RSS = 37122, R2 = 0.973\n",
      "    > Test with adding FUELCONSUMPTION_COMB: RSS = 17444, R2 = 0.988\n",
      "    > Test with adding FUELTYPE_is_D: RSS = 121353, R2 = 0.913\n",
      "    > Test with adding FUELTYPE_is_X: RSS = 124259, R2 = 0.911\n",
      "    > Test with adding FUELTYPE_is_Z: RSS = 123736, R2 = 0.911\n",
      "=> We select FUELCONSUMPTION_COMB, features list is now ['FUELCONSUMPTION_COMB_MPG', 'ENGINESIZE', 'FUELTYPE_is_E', 'FUELCONSUMPTION_COMB']  with RSS = 17444, R2 = 0.988\n",
      "\n",
      "==== Step 5 ====================\n",
      "    > Test with adding MODELYEAR: RSS = 17444, R2 = 0.988\n",
      "    > Test with adding CYLINDERS: RSS = 17303, R2 = 0.988\n",
      "    > Test with adding FUELCONSUMPTION_CITY: RSS = 17347, R2 = 0.988\n",
      "    > Test with adding FUELCONSUMPTION_HWY: RSS = 17333, R2 = 0.988\n",
      "    > Test with adding FUELTYPE_is_D: RSS = 12512, R2 = 0.991\n",
      "    > Test with adding FUELTYPE_is_X: RSS = 17342, R2 = 0.988\n",
      "    > Test with adding FUELTYPE_is_Z: RSS = 17488, R2 = 0.987\n",
      "=> We select FUELTYPE_is_D, features list is now ['FUELCONSUMPTION_COMB_MPG', 'ENGINESIZE', 'FUELTYPE_is_E', 'FUELCONSUMPTION_COMB', 'FUELTYPE_is_D']  with RSS = 12512, R2 = 0.991\n",
      "\n",
      "==== Step 6 ====================\n",
      "    > Test with adding MODELYEAR: RSS = 12512, R2 = 0.991\n",
      "    > Test with adding CYLINDERS: RSS = 12344, R2 = 0.991\n",
      "    > Test with adding FUELCONSUMPTION_CITY: RSS = 12508, R2 = 0.991\n",
      "    > Test with adding FUELCONSUMPTION_HWY: RSS = 12502, R2 = 0.991\n",
      "    > Test with adding FUELTYPE_is_X: RSS = 12552, R2 = 0.991\n",
      "    > Test with adding FUELTYPE_is_Z: RSS = 12552, R2 = 0.991\n",
      "=> We select CYLINDERS, features list is now ['FUELCONSUMPTION_COMB_MPG', 'ENGINESIZE', 'FUELTYPE_is_E', 'FUELCONSUMPTION_COMB', 'FUELTYPE_is_D', 'CYLINDERS']  with RSS = 12344, R2 = 0.991\n",
      "\n",
      "==== Step 7 ====================\n",
      "    > Test with adding MODELYEAR: RSS = 12344, R2 = 0.991\n",
      "    > Test with adding FUELCONSUMPTION_CITY: RSS = 12388, R2 = 0.991\n",
      "    > Test with adding FUELCONSUMPTION_HWY: RSS = 12380, R2 = 0.991\n",
      "    > Test with adding FUELTYPE_is_X: RSS = 12385, R2 = 0.991\n",
      "    > Test with adding FUELTYPE_is_Z: RSS = 12385, R2 = 0.991\n",
      "=> We select MODELYEAR, features list is now ['FUELCONSUMPTION_COMB_MPG', 'ENGINESIZE', 'FUELTYPE_is_E', 'FUELCONSUMPTION_COMB', 'FUELTYPE_is_D', 'CYLINDERS', 'MODELYEAR']  with RSS = 12344, R2 = 0.991\n",
      "\n",
      "==== Step 8 ====================\n",
      "    > Test with adding FUELCONSUMPTION_CITY: RSS = 12388, R2 = 0.991\n",
      "    > Test with adding FUELCONSUMPTION_HWY: RSS = 12380, R2 = 0.991\n",
      "    > Test with adding FUELTYPE_is_X: RSS = 12385, R2 = 0.991\n",
      "    > Test with adding FUELTYPE_is_Z: RSS = 12385, R2 = 0.991\n",
      "=> We select FUELCONSUMPTION_HWY, features list is now ['FUELCONSUMPTION_COMB_MPG', 'ENGINESIZE', 'FUELTYPE_is_E', 'FUELCONSUMPTION_COMB', 'FUELTYPE_is_D', 'CYLINDERS', 'MODELYEAR', 'FUELCONSUMPTION_HWY']  with RSS = 12380, R2 = 0.991\n",
      "\n",
      "==== Step 9 ====================\n",
      "    > Test with adding FUELCONSUMPTION_CITY: RSS = 12388, R2 = 0.991\n",
      "    > Test with adding FUELTYPE_is_X: RSS = 12394, R2 = 0.991\n",
      "    > Test with adding FUELTYPE_is_Z: RSS = 12394, R2 = 0.991\n",
      "=> We select FUELCONSUMPTION_CITY, features list is now ['FUELCONSUMPTION_COMB_MPG', 'ENGINESIZE', 'FUELTYPE_is_E', 'FUELCONSUMPTION_COMB', 'FUELTYPE_is_D', 'CYLINDERS', 'MODELYEAR', 'FUELCONSUMPTION_HWY', 'FUELCONSUMPTION_CITY']  with RSS = 12388, R2 = 0.991\n",
      "\n",
      "==== Step 10 ====================\n",
      "    > Test with adding FUELTYPE_is_X: RSS = 12410, R2 = 0.991\n",
      "    > Test with adding FUELTYPE_is_Z: RSS = 12410, R2 = 0.991\n",
      "=> We select FUELTYPE_is_X, features list is now ['FUELCONSUMPTION_COMB_MPG', 'ENGINESIZE', 'FUELTYPE_is_E', 'FUELCONSUMPTION_COMB', 'FUELTYPE_is_D', 'CYLINDERS', 'MODELYEAR', 'FUELCONSUMPTION_HWY', 'FUELCONSUMPTION_CITY', 'FUELTYPE_is_X']  with RSS = 12410, R2 = 0.991\n",
      "\n",
      "==== Step 11 ====================\n",
      "    > Test with adding FUELTYPE_is_Z: RSS = 12410, R2 = 0.991\n",
      "=> We select FUELTYPE_is_Z, features list is now ['FUELCONSUMPTION_COMB_MPG', 'ENGINESIZE', 'FUELTYPE_is_E', 'FUELCONSUMPTION_COMB', 'FUELTYPE_is_D', 'CYLINDERS', 'MODELYEAR', 'FUELCONSUMPTION_HWY', 'FUELCONSUMPTION_CITY', 'FUELTYPE_is_X', 'FUELTYPE_is_Z']  with RSS = 12410, R2 = 0.991\n",
      "\n"
     ]
    }
   ],
   "source": [
    "from sklearn.linear_model import LinearRegression\n",
    "\n",
    "# We prepare our lists of features. The list features_in corresponds to \n",
    "# the selected features and one feature will be added at each step. The\n",
    "# list features_out corresponds to the candidate features (not already\n",
    "# selected) and one feature will be removed from this list at each step\n",
    "# (the feature transfered to features_in).\n",
    "features_in = []\n",
    "features_out = X.columns.values.tolist()\n",
    "\n",
    "# We prepare list to store the model scores each time a feature is added to the model.\n",
    "rss_list = []\n",
    "r2_list = []\n",
    "\n",
    "# Number of loops equal to the number of the features. Based on the score they add to the model, there will be ordered\n",
    "# in features_in based.\n",
    "for i in range(len(X.columns)):\n",
    "    \n",
    "    print('==== Step ' + str(i+1) + ' ====================') \n",
    "        \n",
    "    # Prepare a temporary dataframe for storing the scores\n",
    "    score_list = pd.DataFrame(columns=['feature_candidate', 'rss', 'r2'])\n",
    "    \n",
    "    # Loop on remaining feature candidates (one by one) to check the resulting RSS.\n",
    "    for feature_candidate in features_out:\n",
    "\n",
    "        # Create a temporary list of the features to test\n",
    "        features_in_test = features_in + [feature_candidate]\n",
    "        # X_train_test = pd.concat([X_train[features_in], X_train[features_out]], axis=1)\n",
    "\n",
    "        # Train regression\n",
    "        reg = LinearRegression()\n",
    "        reg.fit(X_train[features_in_test], y_train)\n",
    "        y_pred = reg.predict(X_test[features_in_test])\n",
    "\n",
    "        # Deduce performance\n",
    "        rss = sum((y_pred - y_test) ** 2)[0]\n",
    "        r2 = reg.score(X_test[features_in_test], y_test)\n",
    "        print('    > Test with adding ' + feature_candidate + ': RSS = ' + str(int(rss)) + ', R2 = ' + str(round(r2,3)))\n",
    "\n",
    "        # Store the results in a dataframe\n",
    "        score_list = score_list.append({'feature_candidate': feature_candidate, 'rss': rss, 'r2': r2}, ignore_index=True)\n",
    "\n",
    "    # We keep the feature_candidate giving the most reduction of RSS\n",
    "    rss_selected = score_list['rss'].min()\n",
    "    feature_selected = score_list['feature_candidate'][score_list['rss'].argmin()]\n",
    "    r2_selected = score_list['r2'][score_list['rss'].argmin()]\n",
    "    features_in.append(feature_selected)\n",
    "    features_out.remove(feature_selected)\n",
    "    rss_list.append(rss_selected)\n",
    "    r2_list.append(r2_selected)\n",
    "    print('=> We select ' + str(feature_selected) + ', features list is now ' + str(features_in), ' with RSS = ' + str(int(rss_selected)) + ', R2 = ' + str(round(r2_selected,3)) + '\\n')\n"
   ]
  },
  {
   "cell_type": "markdown",
   "metadata": {},
   "source": [
    "**Interpretation**:<br>\n",
    "We have ordered the predictors in list features_in so to optimize the reduction of RSS. Let's now determine which number of predictors to keep. The other way to proceed it to set a threshold in the code above so to stop the loop once the RSS reduction is too small (e.g. less than 10 %)."
   ]
  },
  {
   "cell_type": "code",
   "execution_count": 18,
   "metadata": {},
   "outputs": [
    {
     "data": {
      "image/png": "[encoded data removed]",
      "text/plain": [
       "<Figure size 432x432 with 1 Axes>"
      ]
     },
     "metadata": {
      "needs_background": "light"
     },
     "output_type": "display_data"
    }
   ],
   "source": [
    "plt.figure(figsize=(6,6))\n",
    "plt.plot(features_in, rss_list, c='blue')\n",
    "plt.xticks(rotation=90)\n",
    "plt.xlabel('Feature added to the previous ones')\n",
    "plt.ylabel('RSS of the model')\n",
    "plt.title('Evolution of the RSS when adding new predictors')\n",
    "plt.grid()\n",
    "plt.show()"
   ]
  },
  {
   "cell_type": "code",
   "execution_count": 19,
   "metadata": {},
   "outputs": [
    {
     "data": {
      "image/png": "[encoded data removed]",
      "text/plain": [
       "<Figure size 432x432 with 1 Axes>"
      ]
     },
     "metadata": {
      "needs_background": "light"
     },
     "output_type": "display_data"
    }
   ],
   "source": [
    "plt.figure(figsize=(6,6))\n",
    "plt.plot(features_in, r2_list, c='red')\n",
    "plt.xticks(rotation=90)\n",
    "plt.xlabel('Feature added to the previous ones')\n",
    "plt.ylabel('R2-square of the model')\n",
    "plt.title('Evolution of the R2-square when adding new predictors')\n",
    "plt.grid()\n",
    "plt.show()"
   ]
  },
  {
   "cell_type": "markdown",
   "metadata": {},
   "source": [
    "We can apply here the \"Elbow method\" and these plots and keep the four first predictors of the ordered list features_in. If we add more predictors, the RSS reduction is then much less significant, probably because we have reached a floor due to dataset inherent error."
   ]
  },
  {
   "cell_type": "code",
   "execution_count": 20,
   "metadata": {},
   "outputs": [
    {
     "name": "stdout",
     "output_type": "stream",
     "text": [
      "['FUELCONSUMPTION_COMB_MPG', 'ENGINESIZE', 'FUELTYPE_is_E', 'FUELCONSUMPTION_COMB']\n"
     ]
    }
   ],
   "source": [
    "print(features_in[:4])"
   ]
  },
  {
   "cell_type": "markdown",
   "metadata": {},
   "source": [
    "Let's check the performance we get with these four predictors."
   ]
  },
  {
   "cell_type": "code",
   "execution_count": 21,
   "metadata": {},
   "outputs": [
    {
     "name": "stdout",
     "output_type": "stream",
     "text": [
      "                            OLS Regression Results                            \n",
      "==============================================================================\n",
      "Dep. Variable:                      y   R-squared:                       0.986\n",
      "Model:                            OLS   Adj. R-squared:                  0.986\n",
      "Method:                 Least Squares   F-statistic:                 1.872e+04\n",
      "Date:                Sun, 11 Jul 2021   Prob (F-statistic):               0.00\n",
      "Time:                        19:22:42   Log-Likelihood:                -3662.6\n",
      "No. Observations:                1067   AIC:                             7335.\n",
      "Df Residuals:                    1062   BIC:                             7360.\n",
      "Df Model:                           4                                         \n",
      "Covariance Type:            nonrobust                                         \n",
      "============================================================================================\n",
      "                               coef    std err          t      P>|t|      [0.025      0.975]\n",
      "--------------------------------------------------------------------------------------------\n",
      "const                       77.9145      4.716     16.523      0.000      68.662      87.167\n",
      "FUELCONSUMPTION_COMB_MPG    -1.1798      0.089    -13.183      0.000      -1.355      -1.004\n",
      "ENGINESIZE                   2.6818      0.331      8.102      0.000       2.032       3.331\n",
      "FUELTYPE_is_E             -109.6461      1.242    -88.295      0.000    -112.083    -107.209\n",
      "FUELCONSUMPTION_COMB        18.1325      0.251     72.260      0.000      17.640      18.625\n",
      "==============================================================================\n",
      "Omnibus:                      601.748   Durbin-Watson:                   1.958\n",
      "Prob(Omnibus):                  0.000   Jarque-Bera (JB):             5778.418\n",
      "Skew:                           2.444   Prob(JB):                         0.00\n",
      "Kurtosis:                      13.299   Cond. No.                         612.\n",
      "==============================================================================\n",
      "\n",
      "Notes:\n",
      "[1] Standard Errors assume that the covariance matrix of the errors is correctly specified.\n"
     ]
    }
   ],
   "source": [
    "import statsmodels.api as sm\n",
    "X_sm = sm.add_constant(X[features_in[:4]])\n",
    "regressor = sm.OLS(y, X_sm).fit()\n",
    "print(regressor.summary())"
   ]
  }
 ],
 "metadata": {
  "kernelspec": {
   "display_name": "Python 3",
   "language": "python",
   "name": "python3"
  },
  "language_info": {
   "codemirror_mode": {
    "name": "ipython",
    "version": 3
   },
   "file_extension": ".py",
   "mimetype": "text/x-python",
   "name": "python",
   "nbconvert_exporter": "python",
   "pygments_lexer": "ipython3",
   "version": "3.8.6"
  }
 },
 "nbformat": 4,
 "nbformat_minor": 4
}
