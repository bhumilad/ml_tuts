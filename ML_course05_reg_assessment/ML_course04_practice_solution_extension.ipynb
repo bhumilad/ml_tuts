{
 "cells": [
  {
   "cell_type": "markdown",
   "metadata": {},
   "source": [
    "# ML Course 4 - Practice (correction)"
   ]
  },
  {
   "cell_type": "markdown",
   "metadata": {},
   "source": [
    "## Subject"
   ]
  },
  {
   "cell_type": "markdown",
   "metadata": {},
   "source": [
    "We will use here the same data set as for practice #3."
   ]
  },
  {
   "cell_type": "markdown",
   "metadata": {},
   "source": [
    "**`FuelConsumption.csv`** is a vehicle fuel consumption data set that contains model-specific fuel consumption.\n",
    "-   **MODELYEAR** e.g. 2014\n",
    "-   **MAKE** e.g. Acura\n",
    "-   **MODEL** e.g. ILX\n",
    "-   **VEHICLE CLASS** e.g. SUV\n",
    "-   **ENGINE SIZE** e.g. 4.7\n",
    "-   **CYLINDERS** e.g 6\n",
    "-   **TRANSMISSION** e.g. A6\n",
    "-   **FUEL CONSUMPTION in CITY(L/100 km)** e.g. 9.9\n",
    "-   **FUEL CONSUMPTION in HWY (L/100 km)** e.g. 8.9\n",
    "-   **FUEL CONSUMPTION COMB (L/100 km)** e.g. 9.2\n",
    "-   **CO2 EMISSIONS (g/km)** e.g. 182   --> low --> 0"
   ]
  },
  {
   "cell_type": "code",
   "execution_count": 40,
   "metadata": {},
   "outputs": [],
   "source": [
    "import numpy as np\n",
    "import matplotlib.pyplot as plt\n",
    "import pandas as pd\n",
    "import sklearn "
   ]
  },
  {
   "cell_type": "code",
   "execution_count": 41,
   "metadata": {},
   "outputs": [],
   "source": [
    "data = pd.read_csv(\"FuelConsumption.csv\")"
   ]
  },
  {
   "cell_type": "code",
   "execution_count": 42,
   "metadata": {},
   "outputs": [
    {
     "data": {
      "text/html": [
       "<div>\n",
       "<style scoped>\n",
       "    .dataframe tbody tr th:only-of-type {\n",
       "        vertical-align: middle;\n",
       "    }\n",
       "\n",
       "    .dataframe tbody tr th {\n",
       "        vertical-align: top;\n",
       "    }\n",
       "\n",
       "    .dataframe thead th {\n",
       "        text-align: right;\n",
       "    }\n",
       "</style>\n",
       "<table border=\"1\" class=\"dataframe\">\n",
       "  <thead>\n",
       "    <tr style=\"text-align: right;\">\n",
       "      <th></th>\n",
       "      <th>MODELYEAR</th>\n",
       "      <th>MAKE</th>\n",
       "      <th>MODEL</th>\n",
       "      <th>VEHICLECLASS</th>\n",
       "      <th>ENGINESIZE</th>\n",
       "      <th>CYLINDERS</th>\n",
       "      <th>TRANSMISSION</th>\n",
       "      <th>FUELTYPE</th>\n",
       "      <th>FUELCONSUMPTION_CITY</th>\n",
       "      <th>FUELCONSUMPTION_HWY</th>\n",
       "      <th>FUELCONSUMPTION_COMB</th>\n",
       "      <th>FUELCONSUMPTION_COMB_MPG</th>\n",
       "      <th>CO2EMISSIONS</th>\n",
       "    </tr>\n",
       "  </thead>\n",
       "  <tbody>\n",
       "    <tr>\n",
       "      <th>700</th>\n",
       "      <td>2014</td>\n",
       "      <td>MAZDA</td>\n",
       "      <td>CX-9 4WD</td>\n",
       "      <td>SUV - SMALL</td>\n",
       "      <td>3.7</td>\n",
       "      <td>6</td>\n",
       "      <td>AS6</td>\n",
       "      <td>X</td>\n",
       "      <td>14.3</td>\n",
       "      <td>10.6</td>\n",
       "      <td>12.6</td>\n",
       "      <td>22</td>\n",
       "      <td>290</td>\n",
       "    </tr>\n",
       "    <tr>\n",
       "      <th>437</th>\n",
       "      <td>2014</td>\n",
       "      <td>GMC</td>\n",
       "      <td>SAVANA 1500 CARGO AWD</td>\n",
       "      <td>VAN - CARGO</td>\n",
       "      <td>5.3</td>\n",
       "      <td>8</td>\n",
       "      <td>A4</td>\n",
       "      <td>X</td>\n",
       "      <td>18.3</td>\n",
       "      <td>14.2</td>\n",
       "      <td>16.5</td>\n",
       "      <td>17</td>\n",
       "      <td>380</td>\n",
       "    </tr>\n",
       "    <tr>\n",
       "      <th>414</th>\n",
       "      <td>2014</td>\n",
       "      <td>FORD</td>\n",
       "      <td>FUSION AWD</td>\n",
       "      <td>MID-SIZE</td>\n",
       "      <td>2.0</td>\n",
       "      <td>4</td>\n",
       "      <td>AS6</td>\n",
       "      <td>X</td>\n",
       "      <td>10.9</td>\n",
       "      <td>7.5</td>\n",
       "      <td>9.4</td>\n",
       "      <td>30</td>\n",
       "      <td>216</td>\n",
       "    </tr>\n",
       "    <tr>\n",
       "      <th>1055</th>\n",
       "      <td>2014</td>\n",
       "      <td>VOLKSWAGEN</td>\n",
       "      <td>TOUAREG TDI CLEAN DIESEL</td>\n",
       "      <td>SUV - STANDARD</td>\n",
       "      <td>3.0</td>\n",
       "      <td>6</td>\n",
       "      <td>AS8</td>\n",
       "      <td>D</td>\n",
       "      <td>12.3</td>\n",
       "      <td>8.0</td>\n",
       "      <td>10.4</td>\n",
       "      <td>27</td>\n",
       "      <td>281</td>\n",
       "    </tr>\n",
       "    <tr>\n",
       "      <th>69</th>\n",
       "      <td>2014</td>\n",
       "      <td>BENTLEY</td>\n",
       "      <td>CONTINENTAL GT</td>\n",
       "      <td>SUBCOMPACT</td>\n",
       "      <td>6.0</td>\n",
       "      <td>12</td>\n",
       "      <td>AS8</td>\n",
       "      <td>Z</td>\n",
       "      <td>18.8</td>\n",
       "      <td>11.5</td>\n",
       "      <td>15.5</td>\n",
       "      <td>18</td>\n",
       "      <td>356</td>\n",
       "    </tr>\n",
       "    <tr>\n",
       "      <th>1006</th>\n",
       "      <td>2014</td>\n",
       "      <td>TOYOTA</td>\n",
       "      <td>TUNDRA 4WD</td>\n",
       "      <td>PICKUP TRUCK - STANDARD</td>\n",
       "      <td>4.6</td>\n",
       "      <td>8</td>\n",
       "      <td>AS6</td>\n",
       "      <td>X</td>\n",
       "      <td>16.9</td>\n",
       "      <td>12.8</td>\n",
       "      <td>15.1</td>\n",
       "      <td>19</td>\n",
       "      <td>347</td>\n",
       "    </tr>\n",
       "  </tbody>\n",
       "</table>\n",
       "</div>"
      ],
      "text/plain": [
       "      MODELYEAR        MAKE                     MODEL  \\\n",
       "700        2014       MAZDA                  CX-9 4WD   \n",
       "437        2014         GMC     SAVANA 1500 CARGO AWD   \n",
       "414        2014        FORD                FUSION AWD   \n",
       "1055       2014  VOLKSWAGEN  TOUAREG TDI CLEAN DIESEL   \n",
       "69         2014     BENTLEY            CONTINENTAL GT   \n",
       "1006       2014      TOYOTA                TUNDRA 4WD   \n",
       "\n",
       "                 VEHICLECLASS  ENGINESIZE  CYLINDERS TRANSMISSION FUELTYPE  \\\n",
       "700               SUV - SMALL         3.7          6          AS6        X   \n",
       "437               VAN - CARGO         5.3          8           A4        X   \n",
       "414                  MID-SIZE         2.0          4          AS6        X   \n",
       "1055           SUV - STANDARD         3.0          6          AS8        D   \n",
       "69                 SUBCOMPACT         6.0         12          AS8        Z   \n",
       "1006  PICKUP TRUCK - STANDARD         4.6          8          AS6        X   \n",
       "\n",
       "      FUELCONSUMPTION_CITY  FUELCONSUMPTION_HWY  FUELCONSUMPTION_COMB  \\\n",
       "700                   14.3                 10.6                  12.6   \n",
       "437                   18.3                 14.2                  16.5   \n",
       "414                   10.9                  7.5                   9.4   \n",
       "1055                  12.3                  8.0                  10.4   \n",
       "69                    18.8                 11.5                  15.5   \n",
       "1006                  16.9                 12.8                  15.1   \n",
       "\n",
       "      FUELCONSUMPTION_COMB_MPG  CO2EMISSIONS  \n",
       "700                         22           290  \n",
       "437                         17           380  \n",
       "414                         30           216  \n",
       "1055                        27           281  \n",
       "69                          18           356  \n",
       "1006                        19           347  "
      ]
     },
     "execution_count": 42,
     "metadata": {},
     "output_type": "execute_result"
    }
   ],
   "source": [
    "data.sample(6)"
   ]
  },
  {
   "cell_type": "markdown",
   "metadata": {},
   "source": [
    "* Make some plots of 'CYLINDERS', 'ENGINESIZE', 'FUELCONSUMPTION_COMB', with respect to 'CO2EMISSIONS'.\n",
    "* Train a multiple linear regression with these three predictors. What are the coefficients associated with each predictor?\n",
    "* What is the accuracy of this model? What do you think, when compared with the accuracy of the linear regression with 'FUELCONSUMPTION_COMB' as single predictor (computed in last question of practice #3)?\n",
    "* 'FUELCONSUMPTION_CITY' is the urban consumption while FUELCONSUMPTION_HWY is the consumption on the highway. 'FUELCONSUMPTION_COMB' is the combined consumption and is computed as a weighted sum of 'FUELCONSUMPTION_CITY' and 'FUELCONSUMPTION_HWY' so to represent a standard driver behaviour. How are these three features correlated between each other?\n",
    "* Add 'FUELCONSUMPTION_CITY' and 'FUELCONSUMPTION_HWY' as additional predictors to your model of question #2. What is the gain of accuracy, and how do you interpret that?\n",
    "* Bonus (no penalty if not done): Plot 'CO2EMISSIONS' with respect to 'FUELCONSUMPTION_COMB' for each possible value of 'FUELTYPE' (i.e. plot the scatter dots with one distinct color for each value of 'FUELTYPE'). Do you think that 'FUELTYPE' and 'FUELCONSUMPTION_COMB' could be sufficient predictors for 'CO2EMISSIONS' estimation with a multiple linear regression model? Compute the accuracy."
   ]
  },
  {
   "cell_type": "markdown",
   "metadata": {},
   "source": [
    "## Proposition of correction"
   ]
  },
  {
   "cell_type": "markdown",
   "metadata": {},
   "source": [
    "* Make some plots of 'CYLINDERS', 'ENGINESIZE', 'FUELCONSUMPTION_COMB', with respect to 'CO2EMISSIONS'."
   ]
  },
  {
   "cell_type": "code",
   "execution_count": 43,
   "metadata": {},
   "outputs": [
    {
     "data": {
      "image/png": "[encoded data removed]",
      "text/plain": [
       "<Figure size 1152x432 with 3 Axes>"
      ]
     },
     "metadata": {
      "needs_background": "light"
     },
     "output_type": "display_data"
    }
   ],
   "source": [
    "fig, axes = plt.subplots(nrows=1, ncols=3, figsize=(16, 6))\n",
    "\n",
    "axes[0].scatter(data['CYLINDERS'], data['CO2EMISSIONS'])\n",
    "axes[0].set_title(\"Cylinders vs. CO2 emission\")\n",
    "axes[0].set_xlabel(\"CYLINDERS\")\n",
    "axes[0].set_ylabel(\"CO2 emission\")\n",
    "\n",
    "axes[1].scatter(data['ENGINESIZE'], data['CO2EMISSIONS'])\n",
    "axes[1].set_title(\"Engine size vs. CO2 emission\")\n",
    "axes[1].set_xlabel(\"Engine size\")\n",
    "\n",
    "axes[2].scatter(data['FUELCONSUMPTION_COMB'], data['CO2EMISSIONS'])\n",
    "axes[2].set_title(\"Combined fuel consumption vs. CO2 emission\")\n",
    "axes[2].set_xlabel(\"Combined fuel consumption\")\n",
    "\n",
    "plt.show()"
   ]
  },
  {
   "cell_type": "markdown",
   "metadata": {},
   "source": [
    "* Train a multiple linear regression with these three predictors. What are the coefficients associated with each predictor?"
   ]
  },
  {
   "cell_type": "code",
   "execution_count": 44,
   "metadata": {},
   "outputs": [],
   "source": [
    "X = data[['CYLINDERS', 'ENGINESIZE', 'FUELCONSUMPTION_COMB']]\n",
    "y = data['CO2EMISSIONS'].values.reshape(-1,1)"
   ]
  },
  {
   "cell_type": "code",
   "execution_count": 45,
   "metadata": {},
   "outputs": [],
   "source": [
    "from sklearn.model_selection import train_test_split\n",
    "X_train, X_test, y_train, y_test = train_test_split(X, y, test_size = 1/3, random_state = 0)"
   ]
  },
  {
   "cell_type": "code",
   "execution_count": 46,
   "metadata": {},
   "outputs": [
    {
     "name": "stdout",
     "output_type": "stream",
     "text": [
      "The linear model is: Y = 64.341 + 7.9121*CYLINDERS + 10.812*ENGINESIZE + 9.6282*FUELCONSUMPTION_COMB\n"
     ]
    }
   ],
   "source": [
    "from sklearn.linear_model import LinearRegression\n",
    "\n",
    "reg_multiple = LinearRegression()\n",
    "reg_multiple.fit(X_train, y_train)\n",
    "print(\"The linear model is: Y = {:.5} + {:.5}*CYLINDERS + {:.5}*ENGINESIZE + {:.5}*FUELCONSUMPTION_COMB\".format(reg_multiple.intercept_[0], reg_multiple.coef_[0][0], reg_multiple.coef_[0][1], reg_multiple.coef_[0][2]))"
   ]
  },
  {
   "cell_type": "markdown",
   "metadata": {},
   "source": [
    "* What is the accuracy of this model? What do you think, when compared with the accuracy of the linear regression with 'FUELCONSUMPTION_COMB' as single predictor (computed in last question of practice #3)?"
   ]
  },
  {
   "cell_type": "code",
   "execution_count": 47,
   "metadata": {},
   "outputs": [
    {
     "name": "stdout",
     "output_type": "stream",
     "text": [
      "Residual sum of squares (RSS): 219936.91\n",
      "Mean absolute error (MAE): 18.05\n",
      "Mean square error (MSE): 617.80\n",
      "Root mean square error (RMSE): 24.86\n"
     ]
    }
   ],
   "source": [
    "y_pred = reg_multiple.predict(X_test)\n",
    "print(\"Residual sum of squares (RSS): %.2f\" % sum((y_pred - y_test) ** 2))\n",
    "print(\"Mean absolute error (MAE): %.2f\" % np.mean(abs(y_pred - y_test)))\n",
    "print(\"Mean square error (MSE): %.2f\" % np.mean((y_pred - y_test) ** 2))\n",
    "print(\"Root mean square error (RMSE): %.2f\" % np.sqrt(np.mean((y_pred - y_test) ** 2)))"
   ]
  },
  {
   "cell_type": "markdown",
   "metadata": {},
   "source": [
    "With FUELCONSUMPTION_COMB has unique predictor, we had computed a residual sum of squares of 309,995. Here, with our three predictors (and test data set of same size), we get a residual sum of squares of 219,937, i.e. a lower value. We have improved our prediction."
   ]
  },
  {
   "cell_type": "code",
   "execution_count": 48,
   "metadata": {},
   "outputs": [
    {
     "name": "stdout",
     "output_type": "stream",
     "text": [
      "Variance-score (coefficient of determination): R² = 0.84\n"
     ]
    }
   ],
   "source": [
    "from sklearn.metrics import r2_score\n",
    "print(\"Variance-score (coefficient of determination): R² = %.2f\" % r2_score(y_test , y_pred))"
   ]
  },
  {
   "cell_type": "code",
   "execution_count": 49,
   "metadata": {},
   "outputs": [
    {
     "name": "stdout",
     "output_type": "stream",
     "text": [
      "                            OLS Regression Results                            \n",
      "==============================================================================\n",
      "Dep. Variable:                      y   R-squared:                       0.864\n",
      "Model:                            OLS   Adj. R-squared:                  0.864\n",
      "Method:                 Least Squares   F-statistic:                     2251.\n",
      "Date:                Sun, 11 Jul 2021   Prob (F-statistic):               0.00\n",
      "Time:                        18:35:25   Log-Likelihood:                -4876.1\n",
      "No. Observations:                1067   AIC:                             9760.\n",
      "Df Residuals:                    1063   BIC:                             9780.\n",
      "Df Model:                           3                                         \n",
      "Covariance Type:            nonrobust                                         \n",
      "========================================================================================\n",
      "                           coef    std err          t      P>|t|      [0.025      0.975]\n",
      "----------------------------------------------------------------------------------------\n",
      "const                   65.2233      3.190     20.447      0.000      58.964      71.482\n",
      "CYLINDERS                7.5162      1.118      6.723      0.000       5.322       9.710\n",
      "ENGINESIZE              10.8552      1.560      6.960      0.000       7.795      13.916\n",
      "FUELCONSUMPTION_COMB     9.5956      0.359     26.700      0.000       8.890      10.301\n",
      "==============================================================================\n",
      "Omnibus:                       50.180   Durbin-Watson:                   1.811\n",
      "Prob(Omnibus):                  0.000   Jarque-Bera (JB):               75.657\n",
      "Skew:                          -0.401   Prob(JB):                     3.73e-17\n",
      "Kurtosis:                       4.028   Cond. No.                         67.0\n",
      "==============================================================================\n",
      "\n",
      "Notes:\n",
      "[1] Standard Errors assume that the covariance matrix of the errors is correctly specified.\n"
     ]
    }
   ],
   "source": [
    "import statsmodels.api as sm\n",
    "X_sm = sm.add_constant(X)\n",
    "regressor = sm.OLS(y, X_sm).fit()\n",
    "print(regressor.summary())"
   ]
  },
  {
   "cell_type": "markdown",
   "metadata": {},
   "source": [
    "**Interpretation:**<br>\n",
    "R-Squared has improved from 0.78 (with single predictor) to 0.84 here with the three predictors. Around 84 % of the variability of CO2 emission is explained by the regression. <br>\n",
    "The F-statistic has increased as well, meaning that the model fit is even more statistically significant.<br>\n",
    "The p-values associated to the coefficients of the predictors ($\\beta_1$, $\\beta_2$, $\\beta_3$) are all very close to zero, meaning that these predictors are all statistically significant in this model."
   ]
  },
  {
   "cell_type": "markdown",
   "metadata": {},
   "source": [
    "* 'FUELCONSUMPTION_CITY' is the urban consumption while FUELCONSUMPTION_HWY is the consumption on the highway. 'FUELCONSUMPTION_COMB' is the combined consumption and is computed as a weighted sum of 'FUELCONSUMPTION_CITY' and 'FUELCONSUMPTION_HWY' so to represent a standard driver behaviour. How are these three features correlated between each other?"
   ]
  },
  {
   "cell_type": "code",
   "execution_count": 50,
   "metadata": {},
   "outputs": [
    {
     "data": {
      "text/html": [
       "<div>\n",
       "<style scoped>\n",
       "    .dataframe tbody tr th:only-of-type {\n",
       "        vertical-align: middle;\n",
       "    }\n",
       "\n",
       "    .dataframe tbody tr th {\n",
       "        vertical-align: top;\n",
       "    }\n",
       "\n",
       "    .dataframe thead th {\n",
       "        text-align: right;\n",
       "    }\n",
       "</style>\n",
       "<table border=\"1\" class=\"dataframe\">\n",
       "  <thead>\n",
       "    <tr style=\"text-align: right;\">\n",
       "      <th></th>\n",
       "      <th>FUELCONSUMPTION_CITY</th>\n",
       "      <th>FUELCONSUMPTION_HWY</th>\n",
       "      <th>FUELCONSUMPTION_COMB</th>\n",
       "    </tr>\n",
       "  </thead>\n",
       "  <tbody>\n",
       "    <tr>\n",
       "      <th>FUELCONSUMPTION_CITY</th>\n",
       "      <td>1.000000</td>\n",
       "      <td>0.965718</td>\n",
       "      <td>0.995542</td>\n",
       "    </tr>\n",
       "    <tr>\n",
       "      <th>FUELCONSUMPTION_HWY</th>\n",
       "      <td>0.965718</td>\n",
       "      <td>1.000000</td>\n",
       "      <td>0.985804</td>\n",
       "    </tr>\n",
       "    <tr>\n",
       "      <th>FUELCONSUMPTION_COMB</th>\n",
       "      <td>0.995542</td>\n",
       "      <td>0.985804</td>\n",
       "      <td>1.000000</td>\n",
       "    </tr>\n",
       "  </tbody>\n",
       "</table>\n",
       "</div>"
      ],
      "text/plain": [
       "                      FUELCONSUMPTION_CITY  FUELCONSUMPTION_HWY  \\\n",
       "FUELCONSUMPTION_CITY              1.000000             0.965718   \n",
       "FUELCONSUMPTION_HWY               0.965718             1.000000   \n",
       "FUELCONSUMPTION_COMB              0.995542             0.985804   \n",
       "\n",
       "                      FUELCONSUMPTION_COMB  \n",
       "FUELCONSUMPTION_CITY              0.995542  \n",
       "FUELCONSUMPTION_HWY               0.985804  \n",
       "FUELCONSUMPTION_COMB              1.000000  "
      ]
     },
     "execution_count": 50,
     "metadata": {},
     "output_type": "execute_result"
    }
   ],
   "source": [
    "correlation = data[['FUELCONSUMPTION_CITY','FUELCONSUMPTION_HWY','FUELCONSUMPTION_COMB']].corr()\n",
    "correlation"
   ]
  },
  {
   "cell_type": "code",
   "execution_count": 51,
   "metadata": {},
   "outputs": [
    {
     "data": {
      "image/png": "[encoded data removed]",
      "text/plain": [
       "<Figure size 640x400 with 2 Axes>"
      ]
     },
     "metadata": {
      "needs_background": "light"
     },
     "output_type": "display_data"
    }
   ],
   "source": [
    "fig = plt.figure(figsize=(8,5), dpi= 80)\n",
    "ax = fig.add_subplot(1,1,1)\n",
    "cax = ax.matshow(correlation, cmap = plt.cm.magma, vmin=-1, vmax=1)\n",
    "fig.colorbar(cax)\n",
    "ticks = np.arange(0,len(correlation))\n",
    "ax.set_xticks(ticks)\n",
    "ax.set_yticks(ticks)\n",
    "names = data[['FUELCONSUMPTION_CITY','FUELCONSUMPTION_HWY','FUELCONSUMPTION_COMB']].columns\n",
    "ax.set_xticklabels(names)\n",
    "ax.set_yticklabels(names)\n",
    "plt.show()"
   ]
  },
  {
   "cell_type": "markdown",
   "metadata": {},
   "source": [
    "These three features are highly correlated between each other. Especially, FUELCONSUMPTION_COMB correlated at more than 98.5 % with FUELCONSUMPTION_CITY and FUELCONSUMPTION_HWY."
   ]
  },
  {
   "cell_type": "markdown",
   "metadata": {},
   "source": [
    "* Add 'FUELCONSUMPTION_CITY' and 'FUELCONSUMPTION_HWY' as additional predictors to your model of question #2. What is the gain of accuracy, and how do you interpret that?"
   ]
  },
  {
   "cell_type": "code",
   "execution_count": 52,
   "metadata": {},
   "outputs": [
    {
     "name": "stdout",
     "output_type": "stream",
     "text": [
      "Residual sum of squares (RSS): 219764.39\n",
      "Mean absolute error (MAE): 18.02\n",
      "Mean square error (MSE): 617.32\n",
      "Root mean square error (RMSE): 24.85\n"
     ]
    }
   ],
   "source": [
    "# Data preparation\n",
    "X_2 = data[['CYLINDERS', 'ENGINESIZE', 'FUELCONSUMPTION_COMB', 'FUELCONSUMPTION_CITY', 'FUELCONSUMPTION_HWY']]\n",
    "y = data['CO2EMISSIONS'].values.reshape(-1,1)\n",
    "\n",
    "# Train-test split\n",
    "X_train_2, X_test_2, y_train, y_test = train_test_split(X_2, y, test_size = 1/3, random_state = 0)\n",
    "\n",
    "# Model fit\n",
    "reg_multiple_2 = LinearRegression()\n",
    "reg_multiple_2.fit(X_train_2, y_train)\n",
    "\n",
    "# Model accuracy\n",
    "y_pred_2 = reg_multiple_2.predict(X_test_2)\n",
    "print(\"Residual sum of squares (RSS): %.2f\" % sum((y_pred_2 - y_test) ** 2))\n",
    "print(\"Mean absolute error (MAE): %.2f\" % np.mean(abs(y_pred_2 - y_test)))\n",
    "print(\"Mean square error (MSE): %.2f\" % np.mean((y_pred_2 - y_test) ** 2))\n",
    "print(\"Root mean square error (RMSE): %.2f\" % np.sqrt(np.mean((y_pred_2 - y_test) ** 2)))"
   ]
  },
  {
   "cell_type": "markdown",
   "metadata": {},
   "source": [
    "The RSS is approximately the same as before, that means that there is no significant gain of accuracy when adding FUELCONSUMPTION_CITY and FUELCONSUMPTION_HWY as predictors. This is due to the fact that these two features are strongly correlated with FUELCONSUMPTION_COMB and do not bring much extra information. Indeed, this latter is a linear combination of the two previous ones. This is called a multicollinearity."
   ]
  },
  {
   "cell_type": "code",
   "execution_count": 62,
   "metadata": {},
   "outputs": [
    {
     "name": "stdout",
     "output_type": "stream",
     "text": [
      "Variance-score (coefficient of determination): R² = 0.84\n"
     ]
    }
   ],
   "source": [
    "from sklearn.metrics import r2_score\n",
    "print(\"Variance-score (coefficient of determination): R² = %.2f\" % r2_score(y_test , y_pred_2))"
   ]
  },
  {
   "cell_type": "code",
   "execution_count": 54,
   "metadata": {},
   "outputs": [
    {
     "name": "stdout",
     "output_type": "stream",
     "text": [
      "                            OLS Regression Results                            \n",
      "==============================================================================\n",
      "Dep. Variable:                      y   R-squared:                       0.864\n",
      "Model:                            OLS   Adj. R-squared:                  0.864\n",
      "Method:                 Least Squares   F-statistic:                     1350.\n",
      "Date:                Sun, 11 Jul 2021   Prob (F-statistic):               0.00\n",
      "Time:                        18:35:25   Log-Likelihood:                -4875.4\n",
      "No. Observations:                1067   AIC:                             9763.\n",
      "Df Residuals:                    1061   BIC:                             9793.\n",
      "Df Model:                           5                                         \n",
      "Covariance Type:            nonrobust                                         \n",
      "========================================================================================\n",
      "                           coef    std err          t      P>|t|      [0.025      0.975]\n",
      "----------------------------------------------------------------------------------------\n",
      "const                   66.1478      3.320     19.926      0.000      59.634      72.662\n",
      "CYLINDERS                7.2014      1.158      6.218      0.000       4.929       9.474\n",
      "ENGINESIZE              10.9182      1.561      6.994      0.000       7.855      13.981\n",
      "FUELCONSUMPTION_COMB    23.2615     25.037      0.929      0.353     -25.866      72.389\n",
      "FUELCONSUMPTION_CITY    -6.6906     13.770     -0.486      0.627     -33.710      20.328\n",
      "FUELCONSUMPTION_HWY     -7.2416     11.350     -0.638      0.524     -29.513      15.030\n",
      "==============================================================================\n",
      "Omnibus:                       49.965   Durbin-Watson:                   1.807\n",
      "Prob(Omnibus):                  0.000   Jarque-Bera (JB):               77.191\n",
      "Skew:                          -0.392   Prob(JB):                     1.73e-17\n",
      "Kurtosis:                       4.059   Cond. No.                         945.\n",
      "==============================================================================\n",
      "\n",
      "Notes:\n",
      "[1] Standard Errors assume that the covariance matrix of the errors is correctly specified.\n"
     ]
    }
   ],
   "source": [
    "X_sm = sm.add_constant(X_2)\n",
    "regressor = sm.OLS(y, X_sm).fit()\n",
    "print(regressor.summary())"
   ]
  },
  {
   "cell_type": "markdown",
   "metadata": {},
   "source": [
    "**Interpretation:**<br>\n",
    "R-Squared has not changed when compared to the previous model. The F-statistic has even decreased. Adding this two predictors has not provided more information and the prediction accuracy has not improved. <br>\n",
    "We can also notice that the three predictors associated to fuel consumption all have p-values above 35 %, meaning that **some** of them are not statistically significant in our model. <br>\n",
    "Extra note: based on this report only, we cannot tell if FUELCONSUMPTION_COMB, FUELCONSUMPTION_CITY and FUELCONSUMPTION_HWY should **all** be dropped from the model. If we want to check, we have to start by dropping just one (e.g. the one with highest p-value), recompute the report and check how have the p-values of the remaining predictors evolved."
   ]
  },
  {
   "cell_type": "markdown",
   "metadata": {},
   "source": [
    "* Bonus (no penalty if not done): Plot 'CO2EMISSIONS' with respect to 'FUELCONSUMPTION_COMB' for each possible value of 'FUELTYPE' (i.e. plot the scatter dots with one distinct color for each value of 'FUELTYPE'). Do you think that 'FUELTYPE' and 'FUELCONSUMPTION_COMB' could be sufficient predictors for 'CO2EMISSIONS' estimation with a multiple linear regression model? Compute the accuracy."
   ]
  },
  {
   "cell_type": "code",
   "execution_count": 55,
   "metadata": {},
   "outputs": [
    {
     "data": {
      "image/png": "[encoded data removed]",
      "text/plain": [
       "<Figure size 800x480 with 1 Axes>"
      ]
     },
     "metadata": {
      "needs_background": "light"
     },
     "output_type": "display_data"
    }
   ],
   "source": [
    "plt.figure(figsize=(10,6))\n",
    "\n",
    "plt.scatter(data[data['FUELTYPE']=='Z']['FUELCONSUMPTION_COMB'], y[data['FUELTYPE']=='Z'], c='red', label='Z')\n",
    "plt.scatter(data[data['FUELTYPE']=='D']['FUELCONSUMPTION_COMB'], y[data['FUELTYPE']=='D'], c='yellow', label='D')\n",
    "plt.scatter(data[data['FUELTYPE']=='X']['FUELCONSUMPTION_COMB'], y[data['FUELTYPE']=='X'], c='green', label='X')\n",
    "plt.scatter(data[data['FUELTYPE']=='E']['FUELCONSUMPTION_COMB'], y[data['FUELTYPE']=='E'], c='blue', label='E')\n",
    "\n",
    "plt.xlabel(\"Combined fuel consumption\")\n",
    "plt.ylabel(\"CO2 emission\")\n",
    "plt.legend(loc='upper left', title='Fuel type')\n",
    "plt.show()"
   ]
  },
  {
   "cell_type": "markdown",
   "metadata": {},
   "source": [
    "Alternative code:"
   ]
  },
  {
   "cell_type": "code",
   "execution_count": 56,
   "metadata": {},
   "outputs": [
    {
     "data": {
      "image/png": "[encoded data removed]",
      "text/plain": [
       "<Figure size 800x480 with 1 Axes>"
      ]
     },
     "metadata": {
      "needs_background": "light"
     },
     "output_type": "display_data"
    }
   ],
   "source": [
    "plt.figure(figsize=(10,6))\n",
    "\n",
    "for group_name, group in data[['CO2EMISSIONS',  'FUELCONSUMPTION_COMB','FUELTYPE']].groupby('FUELTYPE'):\n",
    "    plt.scatter(group[\"FUELCONSUMPTION_COMB\"], group[\"CO2EMISSIONS\"], label=group_name)\n",
    "\n",
    "plt.xlabel(\"Combined fuel consumption\")\n",
    "plt.ylabel(\"CO2 emission\")\n",
    "plt.legend(loc='upper left', title='Fuel type')\n",
    "plt.show()"
   ]
  },
  {
   "cell_type": "markdown",
   "metadata": {},
   "source": [
    "The graph CO2 emission vs. combined fuel consumption seems to be composed of one line for each fuel type (Z and X are superposed though). It appears that FUELCONSUMPTION_COMB and FUELTYPE are probably sufficient and very good predictors for CO2EMISSION."
   ]
  },
  {
   "cell_type": "code",
   "execution_count": 57,
   "metadata": {},
   "outputs": [
    {
     "name": "stdout",
     "output_type": "stream",
     "text": [
      "Residual sum of squares (RSS): 18512.30\n",
      "Mean absolute error (MAE): 3.40\n",
      "Mean square error (MSE): 52.00\n",
      "Root mean square error (RMSE): 7.21\n"
     ]
    }
   ],
   "source": [
    "# Data preparation\n",
    "X_3 = data[['FUELTYPE','FUELCONSUMPTION_COMB']]\n",
    "y = data['CO2EMISSIONS'].values.reshape(-1,1)\n",
    "\n",
    "# Data encoding\n",
    "X_3 = pd.get_dummies(X_3, columns=['FUELTYPE'], prefix=['FUELTYPE_is'])\n",
    "\n",
    "# Train-test split\n",
    "X_train_3, X_test_3, y_train, y_test = train_test_split(X_3, y, test_size = 1/3, random_state = 0)\n",
    "\n",
    "# Model fit\n",
    "reg_multiple_3 = LinearRegression()\n",
    "reg_multiple_3.fit(X_train_3, y_train)\n",
    "\n",
    "# Model accuracy\n",
    "y_pred_3 = reg_multiple_3.predict(X_test_3)\n",
    "print(\"Residual sum of squares (RSS): %.2f\" % sum((y_pred_3 - y_test) ** 2))\n",
    "print(\"Mean absolute error (MAE): %.2f\" % np.mean(abs(y_pred_3 - y_test)))\n",
    "print(\"Mean square error (MSE): %.2f\" % np.mean((y_pred_3 - y_test) ** 2))\n",
    "print(\"Root mean square error (RMSE): %.2f\" % np.sqrt(np.mean((y_pred_3 - y_test) ** 2)))"
   ]
  },
  {
   "cell_type": "markdown",
   "metadata": {},
   "source": [
    "With this model, the RSS (computed on same size of test data set) has decreased from 219,764 to 18,512. It means that we have significatively increased the accuracy of the model."
   ]
  },
  {
   "cell_type": "code",
   "execution_count": 59,
   "metadata": {},
   "outputs": [
    {
     "name": "stdout",
     "output_type": "stream",
     "text": [
      "Variance-score (coefficient of determination): R² = 0.99\n"
     ]
    }
   ],
   "source": [
    "from sklearn.metrics import r2_score\n",
    "print(\"Variance-score (coefficient of determination): R² = %.2f\" % r2_score(y_test , y_pred_3))"
   ]
  },
  {
   "cell_type": "code",
   "execution_count": 20,
   "metadata": {},
   "outputs": [
    {
     "name": "stdout",
     "output_type": "stream",
     "text": [
      "                            OLS Regression Results                            \n",
      "==============================================================================\n",
      "Dep. Variable:                      y   R-squared:                       0.989\n",
      "Model:                            OLS   Adj. R-squared:                  0.989\n",
      "Method:                 Least Squares   F-statistic:                 2.335e+04\n",
      "Date:                Mon, 18 Jan 2021   Prob (F-statistic):               0.00\n",
      "Time:                        23:39:05   Log-Likelihood:                -3546.2\n",
      "No. Observations:                1067   AIC:                             7102.\n",
      "Df Residuals:                    1062   BIC:                             7127.\n",
      "Df Model:                           4                                         \n",
      "Covariance Type:            nonrobust                                         \n",
      "========================================================================================\n",
      "                           coef    std err          t      P>|t|      [0.025      0.975]\n",
      "----------------------------------------------------------------------------------------\n",
      "const                   -9.7034      0.795    -12.209      0.000     -11.263      -8.144\n",
      "FUELCONSUMPTION_COMB    22.0746      0.075    293.921      0.000      21.927      22.222\n",
      "FUELTYPE_is_D           51.2367      1.054     48.594      0.000      49.168      53.306\n",
      "FUELTYPE_is_E         -100.8480      0.890   -113.343      0.000    -102.594     -99.102\n",
      "FUELTYPE_is_X           19.4035      0.388     50.026      0.000      18.642      20.165\n",
      "FUELTYPE_is_Z           20.5044      0.422     48.604      0.000      19.677      21.332\n",
      "==============================================================================\n",
      "Omnibus:                      283.229   Durbin-Watson:                   2.162\n",
      "Prob(Omnibus):                  0.000   Jarque-Bera (JB):            19802.950\n",
      "Skew:                           0.006   Prob(JB):                         0.00\n",
      "Kurtosis:                      24.105   Cond. No.                     1.38e+16\n",
      "==============================================================================\n",
      "\n",
      "Notes:\n",
      "[1] Standard Errors assume that the covariance matrix of the errors is correctly specified.\n",
      "[2] The smallest eigenvalue is 8.22e-28. This might indicate that there are\n",
      "strong multicollinearity problems or that the design matrix is singular.\n"
     ]
    }
   ],
   "source": [
    "X_sm = sm.add_constant(X_3)\n",
    "regressor = sm.OLS(y, X_sm).fit()\n",
    "print(regressor.summary())"
   ]
  },
  {
   "cell_type": "markdown",
   "metadata": {},
   "source": [
    "**Interpretation:**<br>\n",
    "R-Squared has drastically increased and is now around 99 %. Almost all of the CO2 emission variability is explained by the regression. <br>\n",
    "The high F-statistic shows that we have a strong model fit. <br>\n",
    "By the way, all the predictors of our model are statistically significant since all p-values are close to zero."
   ]
  }
 ],
 "metadata": {
  "kernelspec": {
   "display_name": "Python 3",
   "language": "python",
   "name": "python3"
  },
  "language_info": {
   "codemirror_mode": {
    "name": "ipython",
    "version": 3
   },
   "file_extension": ".py",
   "mimetype": "text/x-python",
   "name": "python",
   "nbconvert_exporter": "python",
   "pygments_lexer": "ipython3",
   "version": "3.8.6"
  }
 },
 "nbformat": 4,
 "nbformat_minor": 4
}
